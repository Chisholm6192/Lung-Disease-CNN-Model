{
  "nbformat": 4,
  "nbformat_minor": 0,
  "metadata": {
    "colab": {
      "provenance": [],
      "include_colab_link": true
    },
    "kernelspec": {
      "name": "python3",
      "display_name": "Python 3"
    },
    "language_info": {
      "name": "python"
    }
  },
  "cells": [
    {
      "cell_type": "markdown",
      "metadata": {
        "id": "view-in-github",
        "colab_type": "text"
      },
      "source": [
        "<a href=\"https://colab.research.google.com/github/itsSuryanshu/3-pre-trained-CNNmodels-LungDisease/blob/main/CNNmodelsPredictInterface.ipynb\" target=\"_parent\"><img src=\"https://colab.research.google.com/assets/colab-badge.svg\" alt=\"Open In Colab\"/></a>"
      ]
    },
    {
      "cell_type": "code",
      "execution_count": 63,
      "metadata": {
        "collapsed": true,
        "id": "82eYhtOyMt9I"
      },
      "outputs": [],
      "source": [
        "!pip install gradio"
      ]
    },
    {
      "cell_type": "code",
      "source": [
        "import os\n",
        "import gradio as gr\n",
        "import tensorflow as tf\n",
        "from tensorflow.keras.models import load_model\n",
        "import numpy as np"
      ],
      "metadata": {
        "id": "-BF4M1jHM1RO"
      },
      "execution_count": 2,
      "outputs": []
    },
    {
      "cell_type": "code",
      "source": [
        "# Download the models\n",
        "!gdown 1-1yxqc1wIZ5BCkMSMHX3ckDutx7W53vh\n",
        "!gdown 1-2UXYM3nRDFMuDdz16Ch--HysRn34dre\n",
        "!gdown 1-4fuab4lPUPuzwo8frTf8dMbPS1-RagB\n",
        "!gdown 1-1PiPw1_Ki3dROe4STsqBlUtNccwBHRg"
      ],
      "metadata": {
        "id": "7jnY1UdTNDoo",
        "collapsed": true
      },
      "execution_count": 62,
      "outputs": []
    },
    {
      "cell_type": "code",
      "source": [
        "# Load up the models\n",
        "cnn_models = {}\n",
        "for file in os.listdir(\"/content\"):\n",
        "  if file.endswith(\".keras\"):\n",
        "    model_name = os.path.basename(file).split(\".\")[0]\n",
        "    model_path = os.path.join(os.getcwd(), file)\n",
        "    cnn_models[model_name] = load_model(model_path)"
      ],
      "metadata": {
        "id": "mR_Q8ThUQpO0"
      },
      "execution_count": 4,
      "outputs": []
    },
    {
      "cell_type": "code",
      "source": [
        "# Check the loaded models\n",
        "cnn_models"
      ],
      "metadata": {
        "colab": {
          "base_uri": "https://localhost:8080/"
        },
        "id": "2nQPJ_hEYRzs",
        "outputId": "cefe3c45-b2fb-4395-9b9a-2ae4f05f61dc"
      },
      "execution_count": 5,
      "outputs": [
        {
          "output_type": "execute_result",
          "data": {
            "text/plain": [
              "{'densenet121_model': <Functional name=functional_7, built=True>,\n",
              " 'KerasModel': <Functional name=functional, built=True>,\n",
              " 'vgg16_model': <Functional name=functional_1, built=True>,\n",
              " 'resnet50v2_model': <Functional name=functional_3, built=True>}"
            ]
          },
          "metadata": {},
          "execution_count": 5
        }
      ]
    },
    {
      "cell_type": "code",
      "source": [
        "# Image prediction function\n",
        "def img_prediction(img, model_name):\n",
        "  try:\n",
        "    # Pre-process the image\n",
        "    if model_name == \"KerasModel\":\n",
        "      resize_img = tf.image.resize(img, (180, 180))\n",
        "      img_array = tf.keras.utils.img_to_array(resize_img)\n",
        "      # final = np.expand_dims(resize_img/255, 0)\n",
        "      final = tf.expand_dims(img_array, 0)\n",
        "    else:\n",
        "      resize_img = tf.image.resize(img, (224, 224))\n",
        "      final = np.expand_dims(resize_img/255, 0)\n",
        "\n",
        "    # Input image into model for prediction\n",
        "    model = cnn_models[model_name]\n",
        "    prediction = model.predict(final)\n",
        "\n",
        "    # Process and return the result\n",
        "    if model_name == \"KerasModel\":\n",
        "      result = float(tf.sigmoid(prediction[0][0]))\n",
        "      if result > 0.5:\n",
        "        return f\"The X-ray results show it is {round(result * 100, 2)}% Viral Pneumonia\"\n",
        "      else:\n",
        "        return f\"The X-ray results show it is {100 - round(result * 100, 2)}% Normal\"\n",
        "    else:\n",
        "      result = np.array(prediction[0])\n",
        "      if result[0] > result[1]:\n",
        "        return f\"The X-ray results show it is {round(result[0]*100, 2)}% Normal\"\n",
        "      else:\n",
        "        return f\"The X-ray results show it is {round(result[1]*100, 2)}% Viral Pneumonia\"\n",
        "  except Exception as e:\n",
        "    #!Error!: Looks like there's a problem with your inputs! Check that your image is of type 'jpeg', 'jpg' or 'png' and that you have selected a model.\n",
        "    return f\"Error: {e}\""
      ],
      "metadata": {
        "id": "dFrh4dDFUYhH"
      },
      "execution_count": 57,
      "outputs": []
    },
    {
      "cell_type": "code",
      "source": [
        "demo = gr.Interface(\n",
        "    fn = img_prediction,\n",
        "    inputs = [\n",
        "        gr.Image(type=\"numpy\"),\n",
        "        gr.Dropdown(label=\"Select Model\", choices=list(cnn_models.keys()))\n",
        "    ],\n",
        "    outputs = gr.Textbox(label=\"Prediction:\"),\n",
        "    title = \"Keras CNN Lung Disease Classification\"\n",
        ")"
      ],
      "metadata": {
        "id": "yWRI5KppWtsz"
      },
      "execution_count": 58,
      "outputs": []
    },
    {
      "cell_type": "code",
      "source": [
        "demo.launch()"
      ],
      "metadata": {
        "id": "ikfkq8PEYKzm"
      },
      "execution_count": 61,
      "outputs": []
    }
  ]
}
